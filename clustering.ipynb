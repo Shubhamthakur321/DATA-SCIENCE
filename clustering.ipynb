{
 "cells": [
  {
   "cell_type": "markdown",
   "metadata": {},
   "source": [
    "# CLUSTERING"
   ]
  },
  {
   "cell_type": "code",
   "execution_count": 1,
   "metadata": {},
   "outputs": [],
   "source": [
    "#WHAT IS CLUSTERING\n",
    "#Clustering is important in data analysis and data mining applications.\n",
    "#It is the task of grouping a set of objects so that objects in the \n",
    "#same group are more similar to each other than to those in other groups"
   ]
  },
  {
   "cell_type": "code",
   "execution_count": 2,
   "metadata": {},
   "outputs": [],
   "source": [
    "import pandas as pd\n",
    "import numpy as np\n",
    "import matplotlib.pyplot as plt"
   ]
  },
  {
   "cell_type": "code",
   "execution_count": 3,
   "metadata": {},
   "outputs": [],
   "source": [
    "#Now making a fake data set with the help of sklearn."
   ]
  },
  {
   "cell_type": "code",
   "execution_count": 4,
   "metadata": {},
   "outputs": [],
   "source": [
    "from sklearn.datasets import make_blobs"
   ]
  },
  {
   "cell_type": "code",
   "execution_count": 5,
   "metadata": {},
   "outputs": [],
   "source": [
    "X,y = make_blobs(n_samples=300,centers=5,cluster_std=,n_features=2)"
   ]
  },
  {
   "cell_type": "code",
   "execution_count": 6,
   "metadata": {},
   "outputs": [],
   "source": [
    "X1=pd.DataFrame(X)"
   ]
  },
  {
   "cell_type": "code",
   "execution_count": 7,
   "metadata": {},
   "outputs": [],
   "source": [
    "y1=pd.DataFrame(y)"
   ]
  },
  {
   "cell_type": "code",
   "execution_count": 8,
   "metadata": {},
   "outputs": [
    {
     "data": {
      "text/plain": [
       "<matplotlib.collections.PathCollection at 0x227bad0f310>"
      ]
     },
     "execution_count": 8,
     "metadata": {},
     "output_type": "execute_result"
    },
    {
     "data": {
      "image/png": "[encoded data removed]",
      "text/plain": [
       "<Figure size 432x288 with 1 Axes>"
      ]
     },
     "metadata": {
      "needs_background": "light"
     },
     "output_type": "display_data"
    }
   ],
   "source": [
    "#iloc use for slicing the data frame\n",
    "plt.scatter(X1.iloc[:,0],X1.iloc[:,1])"
   ]
  },
  {
   "cell_type": "code",
   "execution_count": 9,
   "metadata": {},
   "outputs": [
    {
     "data": {
      "text/plain": [
       "<matplotlib.collections.PathCollection at 0x2278005de80>"
      ]
     },
     "execution_count": 9,
     "metadata": {},
     "output_type": "execute_result"
    },
    {
     "data": {
      "image/png": "[encoded data removed]",
      "text/plain": [
       "<Figure size 432x288 with 1 Axes>"
      ]
     },
     "metadata": {
      "needs_background": "light"
     },
     "output_type": "display_data"
    }
   ],
   "source": [
    "#This method  use for numpy array\n",
    "plt.scatter(X[:,0],X[:,1])"
   ]
  },
  {
   "cell_type": "code",
   "execution_count": 10,
   "metadata": {},
   "outputs": [],
   "source": [
    "#NOW WE apply within cluster variation.formul link\n",
    "#https://www.saedsayad.com/clustering_kmeans.htm"
   ]
  },
  {
   "cell_type": "code",
   "execution_count": 11,
   "metadata": {},
   "outputs": [],
   "source": [
    "from sklearn.cluster import KMeans"
   ]
  },
  {
   "cell_type": "code",
   "execution_count": 12,
   "metadata": {},
   "outputs": [
    {
     "data": {
      "text/plain": [
       "[22903.56310169239,\n",
       " 6998.871643283487,\n",
       " 1652.996323713639,\n",
       " 812.206505197762,\n",
       " 192.84112901927747,\n",
       " 173.03294075649924,\n",
       " 157.62837655278145,\n",
       " 145.36349076106515,\n",
       " 130.06005503152525,\n",
       " 118.01386004816891,\n",
       " 106.66331876379138,\n",
       " 98.490042551748,\n",
       " 93.52912148743904,\n",
       " 86.86157903903893,\n",
       " 79.64125980254617]"
      ]
     },
     "execution_count": 12,
     "metadata": {},
     "output_type": "execute_result"
    }
   ],
   "source": [
    "wcv=[]\n",
    "for i in range(1,16):\n",
    "    km=KMeans(n_clusters=i)\n",
    "    km.fit(X)\n",
    "    wcv.append(km.inertia_)\n",
    "wcv"
   ]
  },
  {
   "cell_type": "code",
   "execution_count": 13,
   "metadata": {},
   "outputs": [
    {
     "data": {
      "text/plain": [
       "[<matplotlib.lines.Line2D at 0x22780930cd0>]"
      ]
     },
     "execution_count": 13,
     "metadata": {},
     "output_type": "execute_result"
    },
    {
     "data": {
      "image/png": "[encoded data removed]",
      "text/plain": [
       "<Figure size 432x288 with 1 Axes>"
      ]
     },
     "metadata": {
      "needs_background": "light"
     },
     "output_type": "display_data"
    }
   ],
   "source": [
    "plt.plot(range(1,16),wcv)"
   ]
  },
  {
   "cell_type": "code",
   "execution_count": 14,
   "metadata": {},
   "outputs": [],
   "source": [
    "#Till now we were just finding out optimal number of cluster out be five.\n",
    "#with the help of Elbow method find optimal number of cluster."
   ]
  },
  {
   "cell_type": "code",
   "execution_count": 15,
   "metadata": {},
   "outputs": [],
   "source": [
    "km=KMeans(n_clusters=5)"
   ]
  },
  {
   "cell_type": "code",
   "execution_count": 16,
   "metadata": {},
   "outputs": [],
   "source": [
    "y_predict=km.fit_predict(X)"
   ]
  },
  {
   "cell_type": "code",
   "execution_count": 17,
   "metadata": {},
   "outputs": [
    {
     "data": {
      "text/plain": [
       "array([0, 4, 4, 2, 2, 3, 3, 3, 4, 4, 1, 1, 3, 2, 1, 3, 0, 4, 3, 0, 0, 0,\n",
       "       3, 3, 0, 2, 4, 2, 1, 2, 0, 3, 0, 0, 2, 2, 1, 2, 1, 4, 3, 1, 4, 4,\n",
       "       1, 0, 4, 0, 1, 3, 1, 2, 1, 2, 1, 1, 2, 1, 0, 0, 1, 3, 3, 1, 0, 0,\n",
       "       2, 1, 0, 4, 1, 0, 3, 0, 0, 2, 1, 3, 4, 0, 2, 2, 0, 2, 2, 3, 0, 2,\n",
       "       2, 4, 3, 1, 2, 4, 0, 4, 4, 2, 3, 3, 1, 2, 2, 4, 1, 3, 1, 0, 4, 0,\n",
       "       2, 4, 2, 3, 2, 4, 2, 2, 0, 0, 1, 0, 4, 4, 3, 0, 3, 4, 3, 0, 2, 1,\n",
       "       4, 3, 4, 0, 4, 1, 4, 0, 3, 3, 3, 0, 0, 3, 3, 0, 3, 2, 2, 3, 3, 4,\n",
       "       2, 3, 1, 4, 4, 4, 1, 4, 4, 4, 2, 4, 4, 2, 0, 1, 0, 3, 1, 3, 3, 4,\n",
       "       2, 4, 4, 3, 2, 4, 0, 1, 0, 4, 4, 1, 0, 1, 2, 1, 4, 2, 1, 0, 1, 0,\n",
       "       2, 4, 1, 4, 3, 3, 2, 3, 4, 4, 1, 0, 0, 1, 2, 4, 3, 3, 0, 4, 2, 2,\n",
       "       1, 2, 4, 3, 3, 3, 0, 1, 0, 1, 4, 2, 3, 2, 4, 4, 3, 4, 3, 2, 1, 1,\n",
       "       1, 3, 1, 3, 3, 4, 3, 0, 0, 0, 1, 4, 4, 4, 2, 0, 0, 2, 2, 1, 1, 2,\n",
       "       0, 1, 3, 1, 1, 3, 2, 1, 2, 3, 3, 3, 1, 4, 0, 0, 2, 1, 2, 1, 3, 3,\n",
       "       0, 2, 0, 1, 0, 1, 1, 1, 2, 4, 0, 2, 0, 2])"
      ]
     },
     "execution_count": 17,
     "metadata": {},
     "output_type": "execute_result"
    }
   ],
   "source": [
    "y_predict"
   ]
  },
  {
   "cell_type": "code",
   "execution_count": 36,
   "metadata": {},
   "outputs": [
    {
     "data": {
      "text/plain": [
       "<function matplotlib.pyplot.show(close=None, block=None)>"
      ]
     },
     "execution_count": 36,
     "metadata": {},
     "output_type": "execute_result"
    },
    {
     "data": {
      "image/png": "[encoded data removed]",
      "text/plain": [
       "<Figure size 432x288 with 1 Axes>"
      ]
     },
     "metadata": {
      "needs_background": "light"
     },
     "output_type": "display_data"
    }
   ],
   "source": [
    "plt.scatter(X[y_predict==0,0],X[y_predict==0,1])\n",
    "\n",
    "plt.scatter(X[y_predict==1,0],X[y_predict==1,1])\n",
    "\n",
    "plt.scatter(X[y_predict==2,0],X[y_predict==2,1])\n",
    "\n",
    "plt.scatter(X[y_predict==3,0],X[y_predict==3,1])\n",
    "\n",
    "plt.scatter(X[y_predict==4,0],X[y_predict==4,1])\n",
    "\n",
    "plt.show"
   ]
  }
 ],
 "metadata": {
  "kernelspec": {
   "display_name": "Python 3",
   "language": "python",
   "name": "python3"
  },
  "language_info": {
   "codemirror_mode": {
    "name": "ipython",
    "version": 3
   },
   "file_extension": ".py",
   "mimetype": "text/x-python",
   "name": "python",
   "nbconvert_exporter": "python",
   "pygments_lexer": "ipython3",
   "version": "3.8.5"
  }
 },
 "nbformat": 4,
 "nbformat_minor": 4
}
